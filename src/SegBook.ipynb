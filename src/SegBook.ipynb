{
 "cells": [
  {
   "cell_type": "markdown",
   "metadata": {},
   "source": [
    "# Customer Segmentation for E-commerce"
   ]
  },
  {
   "cell_type": "markdown",
   "metadata": {},
   "source": [
    "#### Import the required libraries"
   ]
  },
  {
   "cell_type": "code",
   "execution_count": 27,
   "metadata": {},
   "outputs": [],
   "source": [
    "import pandas as pd\n",
    "from datetime import datetime\n",
    "from IPython.display import display, HTML\n",
    "from sklearn.preprocessing import StandardScaler\n",
    "from sklearn.cluster import KMeans\n",
    "import matplotlib.pyplot as plt\n",
    "import seaborn as sns\n",
    "import warnings\n",
    "warnings.filterwarnings('ignore')"
   ]
  },
  {
   "cell_type": "code",
   "execution_count": 29,
   "metadata": {},
   "outputs": [
    {
     "data": {
      "text/html": [
       "<div>\n",
       "<style scoped>\n",
       "    .dataframe tbody tr th:only-of-type {\n",
       "        vertical-align: middle;\n",
       "    }\n",
       "\n",
       "    .dataframe tbody tr th {\n",
       "        vertical-align: top;\n",
       "    }\n",
       "\n",
       "    .dataframe thead th {\n",
       "        text-align: right;\n",
       "    }\n",
       "</style>\n",
       "<table border=\"1\" class=\"dataframe\">\n",
       "  <thead>\n",
       "    <tr style=\"text-align: right;\">\n",
       "      <th></th>\n",
       "      <th>InvoiceNo</th>\n",
       "      <th>StockCode</th>\n",
       "      <th>Description</th>\n",
       "      <th>Quantity</th>\n",
       "      <th>InvoiceDate</th>\n",
       "      <th>UnitPrice</th>\n",
       "      <th>CustomerID</th>\n",
       "      <th>Country</th>\n",
       "    </tr>\n",
       "  </thead>\n",
       "  <tbody>\n",
       "    <tr>\n",
       "      <th>0</th>\n",
       "      <td>536365</td>\n",
       "      <td>85123A</td>\n",
       "      <td>WHITE HANGING HEART T-LIGHT HOLDER</td>\n",
       "      <td>6</td>\n",
       "      <td>12/1/2010 8:26</td>\n",
       "      <td>2.55</td>\n",
       "      <td>17850.0</td>\n",
       "      <td>United Kingdom</td>\n",
       "    </tr>\n",
       "    <tr>\n",
       "      <th>1</th>\n",
       "      <td>536365</td>\n",
       "      <td>71053</td>\n",
       "      <td>WHITE METAL LANTERN</td>\n",
       "      <td>6</td>\n",
       "      <td>12/1/2010 8:26</td>\n",
       "      <td>3.39</td>\n",
       "      <td>17850.0</td>\n",
       "      <td>United Kingdom</td>\n",
       "    </tr>\n",
       "    <tr>\n",
       "      <th>2</th>\n",
       "      <td>536365</td>\n",
       "      <td>84406B</td>\n",
       "      <td>CREAM CUPID HEARTS COAT HANGER</td>\n",
       "      <td>8</td>\n",
       "      <td>12/1/2010 8:26</td>\n",
       "      <td>2.75</td>\n",
       "      <td>17850.0</td>\n",
       "      <td>United Kingdom</td>\n",
       "    </tr>\n",
       "    <tr>\n",
       "      <th>3</th>\n",
       "      <td>536365</td>\n",
       "      <td>84029G</td>\n",
       "      <td>KNITTED UNION FLAG HOT WATER BOTTLE</td>\n",
       "      <td>6</td>\n",
       "      <td>12/1/2010 8:26</td>\n",
       "      <td>3.39</td>\n",
       "      <td>17850.0</td>\n",
       "      <td>United Kingdom</td>\n",
       "    </tr>\n",
       "    <tr>\n",
       "      <th>4</th>\n",
       "      <td>536365</td>\n",
       "      <td>84029E</td>\n",
       "      <td>RED WOOLLY HOTTIE WHITE HEART.</td>\n",
       "      <td>6</td>\n",
       "      <td>12/1/2010 8:26</td>\n",
       "      <td>3.39</td>\n",
       "      <td>17850.0</td>\n",
       "      <td>United Kingdom</td>\n",
       "    </tr>\n",
       "  </tbody>\n",
       "</table>\n",
       "</div>"
      ],
      "text/plain": [
       "  InvoiceNo StockCode                          Description  Quantity  \\\n",
       "0    536365    85123A   WHITE HANGING HEART T-LIGHT HOLDER         6   \n",
       "1    536365     71053                  WHITE METAL LANTERN         6   \n",
       "2    536365    84406B       CREAM CUPID HEARTS COAT HANGER         8   \n",
       "3    536365    84029G  KNITTED UNION FLAG HOT WATER BOTTLE         6   \n",
       "4    536365    84029E       RED WOOLLY HOTTIE WHITE HEART.         6   \n",
       "\n",
       "      InvoiceDate  UnitPrice  CustomerID         Country  \n",
       "0  12/1/2010 8:26       2.55     17850.0  United Kingdom  \n",
       "1  12/1/2010 8:26       3.39     17850.0  United Kingdom  \n",
       "2  12/1/2010 8:26       2.75     17850.0  United Kingdom  \n",
       "3  12/1/2010 8:26       3.39     17850.0  United Kingdom  \n",
       "4  12/1/2010 8:26       3.39     17850.0  United Kingdom  "
      ]
     },
     "execution_count": 29,
     "metadata": {},
     "output_type": "execute_result"
    }
   ],
   "source": [
    "# create a dataframe\n",
    "df = pd.read_csv(\"/Users/ricki/Documents/Freelance/Projects/CustomerSegmentation/RFM-Segmentation/data/Online Retail.csv\", encoding='ISO-8859-1')\n",
    "#print(df.head())\n",
    "df.head()"
   ]
  },
  {
   "cell_type": "markdown",
   "metadata": {},
   "source": [
    "### Dataset credits:\n",
    "Chen, D. (2015). Online Retail [Dataset]. UCI Machine Learning Repository. https://doi.org/10.24432/C5BW33."
   ]
  },
  {
   "cell_type": "markdown",
   "metadata": {},
   "source": [
    "### Inspect the Data:"
   ]
  },
  {
   "cell_type": "code",
   "execution_count": 30,
   "metadata": {},
   "outputs": [
    {
     "name": "stdout",
     "output_type": "stream",
     "text": [
      "<class 'pandas.core.frame.DataFrame'>\n",
      "RangeIndex: 541909 entries, 0 to 541908\n",
      "Data columns (total 8 columns):\n",
      " #   Column       Non-Null Count   Dtype  \n",
      "---  ------       --------------   -----  \n",
      " 0   InvoiceNo    541909 non-null  object \n",
      " 1   StockCode    541909 non-null  object \n",
      " 2   Description  540455 non-null  object \n",
      " 3   Quantity     541909 non-null  int64  \n",
      " 4   InvoiceDate  541909 non-null  object \n",
      " 5   UnitPrice    541909 non-null  float64\n",
      " 6   CustomerID   406829 non-null  float64\n",
      " 7   Country      541909 non-null  object \n",
      "dtypes: float64(2), int64(1), object(5)\n",
      "memory usage: 33.1+ MB\n",
      "None\n"
     ]
    }
   ],
   "source": [
    "# Check for missing values and data types.\n",
    "print(df.info())"
   ]
  },
  {
   "cell_type": "markdown",
   "metadata": {},
   "source": [
    "#### Basic Summary Statistics:"
   ]
  },
  {
   "cell_type": "code",
   "execution_count": 31,
   "metadata": {},
   "outputs": [
    {
     "data": {
      "text/html": [
       "Basic Summary Statistics<table border=\"1\" class=\"dataframe\">\n",
       "  <thead>\n",
       "    <tr style=\"text-align: right;\">\n",
       "      <th></th>\n",
       "      <th>Quantity</th>\n",
       "      <th>UnitPrice</th>\n",
       "      <th>CustomerID</th>\n",
       "    </tr>\n",
       "  </thead>\n",
       "  <tbody>\n",
       "    <tr>\n",
       "      <th>count</th>\n",
       "      <td>541909.000000</td>\n",
       "      <td>541909.000000</td>\n",
       "      <td>406829.000000</td>\n",
       "    </tr>\n",
       "    <tr>\n",
       "      <th>mean</th>\n",
       "      <td>9.552250</td>\n",
       "      <td>4.611114</td>\n",
       "      <td>15287.690570</td>\n",
       "    </tr>\n",
       "    <tr>\n",
       "      <th>std</th>\n",
       "      <td>218.081158</td>\n",
       "      <td>96.759853</td>\n",
       "      <td>1713.600303</td>\n",
       "    </tr>\n",
       "    <tr>\n",
       "      <th>min</th>\n",
       "      <td>-80995.000000</td>\n",
       "      <td>-11062.060000</td>\n",
       "      <td>12346.000000</td>\n",
       "    </tr>\n",
       "    <tr>\n",
       "      <th>25%</th>\n",
       "      <td>1.000000</td>\n",
       "      <td>1.250000</td>\n",
       "      <td>13953.000000</td>\n",
       "    </tr>\n",
       "    <tr>\n",
       "      <th>50%</th>\n",
       "      <td>3.000000</td>\n",
       "      <td>2.080000</td>\n",
       "      <td>15152.000000</td>\n",
       "    </tr>\n",
       "    <tr>\n",
       "      <th>75%</th>\n",
       "      <td>10.000000</td>\n",
       "      <td>4.130000</td>\n",
       "      <td>16791.000000</td>\n",
       "    </tr>\n",
       "    <tr>\n",
       "      <th>max</th>\n",
       "      <td>80995.000000</td>\n",
       "      <td>38970.000000</td>\n",
       "      <td>18287.000000</td>\n",
       "    </tr>\n",
       "  </tbody>\n",
       "</table>"
      ],
      "text/plain": [
       "<IPython.core.display.HTML object>"
      ]
     },
     "metadata": {},
     "output_type": "display_data"
    }
   ],
   "source": [
    "display(HTML(\"Basic Summary Statistics\" + df.describe().to_html()))"
   ]
  },
  {
   "cell_type": "code",
   "execution_count": 32,
   "metadata": {},
   "outputs": [
    {
     "name": "stdout",
     "output_type": "stream",
     "text": [
      "InvoiceNo  StockCode  Description                          Quantity  InvoiceDate       UnitPrice  CustomerID  Country       \n",
      "555524     22698      PINK REGENCY TEACUP AND SAUCER        1        6/5/2011 11:37    2.95       16923.0     United Kingdom    20\n",
      "           22697      GREEN REGENCY TEACUP AND SAUCER       1        6/5/2011 11:37    2.95       16923.0     United Kingdom    12\n",
      "572861     22775      PURPLE DRAWERKNOB ACRYLIC EDWARDIAN   12       10/26/2011 12:46  1.25       14102.0     United Kingdom     8\n",
      "572344     M          Manual                                48       10/24/2011 10:43  1.50       14607.0     United Kingdom     6\n",
      "578289     23395      BELLE JARDINIERE CUSHION COVER        1        11/23/2011 14:07  3.75       17841.0     United Kingdom     6\n",
      "                                                                                                                                ..\n",
      "553915     21174      POTTERING IN THE SHED METAL SIGN      12       5/19/2011 19:51   2.08       18225.0     United Kingdom     1\n",
      "           21165      BEWARE OF THE CAT METAL SIGN          12       5/19/2011 19:51   1.69       18225.0     United Kingdom     1\n",
      "           21080      SET/20 RED RETROSPOT PAPER NAPKINS    12       5/19/2011 19:51   0.85       18225.0     United Kingdom     1\n",
      "           21078      SET/20 STRAWBERRY PAPER NAPKINS       12       5/19/2011 19:51   0.85       18225.0     United Kingdom     1\n",
      "C581569    84978      HANGING HEART JAR T-LIGHT HOLDER     -1        12/9/2011 11:58   1.25       17315.0     United Kingdom     1\n",
      "Length: 401604, dtype: int64\n"
     ]
    }
   ],
   "source": [
    "# Value counts for categorical columns\n",
    "print(df.value_counts())"
   ]
  },
  {
   "cell_type": "code",
   "execution_count": 33,
   "metadata": {},
   "outputs": [
    {
     "name": "stdout",
     "output_type": "stream",
     "text": [
      "United Kingdom    495478\n",
      "Germany             9495\n",
      "France              8557\n",
      "EIRE                8196\n",
      "Spain               2533\n",
      "Name: Country, dtype: int64\n"
     ]
    }
   ],
   "source": [
    "print(df['Country'].value_counts().head(5)) # Top 5 countries"
   ]
  },
  {
   "cell_type": "code",
   "execution_count": 34,
   "metadata": {},
   "outputs": [
    {
     "name": "stdout",
     "output_type": "stream",
     "text": [
      "WHITE HANGING HEART T-LIGHT HOLDER    2369\n",
      "REGENCY CAKESTAND 3 TIER              2200\n",
      "JUMBO BAG RED RETROSPOT               2159\n",
      "PARTY BUNTING                         1727\n",
      "LUNCH BAG RED RETROSPOT               1638\n",
      "Name: Description, dtype: int64\n"
     ]
    }
   ],
   "source": [
    "print(df['Description'].value_counts().head(5)) # Top 5 products"
   ]
  },
  {
   "cell_type": "markdown",
   "metadata": {},
   "source": [
    "### Data Preprocessing\n"
   ]
  },
  {
   "cell_type": "code",
   "execution_count": 35,
   "metadata": {},
   "outputs": [
    {
     "data": {
      "text/plain": [
       "InvoiceNo           0\n",
       "StockCode           0\n",
       "Description      1454\n",
       "Quantity            0\n",
       "InvoiceDate         0\n",
       "UnitPrice           0\n",
       "CustomerID     135080\n",
       "Country             0\n",
       "dtype: int64"
      ]
     },
     "execution_count": 35,
     "metadata": {},
     "output_type": "execute_result"
    }
   ],
   "source": [
    "# Check columns with missing values\n",
    "df.isnull().sum()"
   ]
  },
  {
   "cell_type": "code",
   "execution_count": 36,
   "metadata": {},
   "outputs": [],
   "source": [
    "# Handle Missing Values\n",
    "\n",
    "df['Description'] = df['Description'].fillna('Unknown') # Fill missing values for Description\n",
    "df = df.dropna() # Drop missing values"
   ]
  },
  {
   "cell_type": "code",
   "execution_count": 37,
   "metadata": {},
   "outputs": [],
   "source": [
    "# Convert InvoiceDate to datetime\n",
    "df['InvoiceDate'] = pd.to_datetime(df['InvoiceDate'], errors='coerce')"
   ]
  },
  {
   "cell_type": "code",
   "execution_count": 38,
   "metadata": {},
   "outputs": [
    {
     "name": "stdout",
     "output_type": "stream",
     "text": [
      "Negative Quantity: 8905\n",
      "Negative Unit Price: 0\n"
     ]
    }
   ],
   "source": [
    "# Check for negative numbers in quantity and unit price\n",
    "print(\"Negative Quantity:\", df[df['Quantity'] < 0].shape[0])\n",
    "print(\"Negative Unit Price:\", df[df['UnitPrice'] < 0].shape[0])"
   ]
  },
  {
   "cell_type": "code",
   "execution_count": 39,
   "metadata": {},
   "outputs": [],
   "source": [
    "# Convert Quantity to absolute values\n",
    "df['Quantity'] = df['Quantity'].abs()"
   ]
  },
  {
   "cell_type": "code",
   "execution_count": 40,
   "metadata": {},
   "outputs": [
    {
     "name": "stdout",
     "output_type": "stream",
     "text": [
      "Number of duplicate rows: 5225\n"
     ]
    }
   ],
   "source": [
    "# Check for duplicates\n",
    "duplicates = df.duplicated()\n",
    "print(\"Number of duplicate rows:\", duplicates.sum())"
   ]
  },
  {
   "cell_type": "code",
   "execution_count": 41,
   "metadata": {},
   "outputs": [],
   "source": [
    "df = df.drop_duplicates()"
   ]
  },
  {
   "cell_type": "markdown",
   "metadata": {},
   "source": [
    "#### Feature Engineering"
   ]
  },
  {
   "cell_type": "code",
   "execution_count": 42,
   "metadata": {},
   "outputs": [
    {
     "name": "stdout",
     "output_type": "stream",
     "text": [
      "            Recency  Frequency  Monetary\n",
      "CustomerID                              \n",
      "12346.0        5123          2      2.08\n",
      "12347.0        4799        182    481.21\n",
      "12348.0        4873         31    178.71\n",
      "12349.0        4816         73    605.10\n",
      "12350.0        5107         17     65.30\n"
     ]
    }
   ],
   "source": [
    "# Create features for clustering:\n",
    "# Recency: Days since last purchase\n",
    "# Frequency: Total number of purchases\n",
    "# Monetary: Total purchase value\n",
    "\n",
    "current_date = datetime.now()\n",
    "rfm = df.groupby(\"CustomerID\").agg({\n",
    "    \"InvoiceDate\": lambda x: (current_date - x.max()).days,\n",
    "    \"CustomerID\": \"count\",\n",
    "    \"UnitPrice\": \"sum\"\n",
    "}).rename(columns={\n",
    "    \"InvoiceDate\": \"Recency\",\n",
    "    \"CustomerID\": \"Frequency\",\n",
    "    \"UnitPrice\": \"Monetary\"\n",
    "})\n",
    "print(rfm.head())"
   ]
  },
  {
   "cell_type": "markdown",
   "metadata": {},
   "source": [
    "#### Normalize Data"
   ]
  },
  {
   "cell_type": "code",
   "execution_count": 43,
   "metadata": {},
   "outputs": [],
   "source": [
    "# Scale the features to a uniform range\n",
    "scaler = StandardScaler() \n",
    "rfm_scaled = scaler.fit_transform(rfm) "
   ]
  },
  {
   "cell_type": "markdown",
   "metadata": {},
   "source": [
    "#### Apply K-Means Clustering Algorithm \n",
    "K-Means is a popular clustering algorithm that groups similar data points into clusters"
   ]
  },
  {
   "cell_type": "code",
   "execution_count": 44,
   "metadata": {},
   "outputs": [
    {
     "data": {
      "image/png": "[encoded data removed]",
      "text/plain": [
       "<Figure size 640x480 with 1 Axes>"
      ]
     },
     "metadata": {},
     "output_type": "display_data"
    }
   ],
   "source": [
    "distortions = [] # Initialize an empty list to store the distortion values\n",
    "tolerance = 0.01   # Set a tolerance value to stop the loop\n",
    "for k in range(1, 11): \n",
    "    kmeans = KMeans(n_clusters=k, random_state=42) # Initialize the KMeans model\n",
    "    kmeans.fit(rfm_scaled)\n",
    "    inertia = kmeans.inertia_ \n",
    "    if k > 1 and abs(distortions[-1] - inertia) < tolerance: # Check if the difference is less than the tolerance\n",
    "        break \n",
    "    distortions.append(inertia) \n",
    "plt.plot(range(1, 11), distortions, marker='o') \n",
    "plt.title(\"Elbow Method\")\n",
    "plt.xlabel(\"Number of Clusters\")\n",
    "plt.ylabel(\"Distortion\")\n",
    "plt.show()\n",
    "plt.show()"
   ]
  },
  {
   "cell_type": "markdown",
   "metadata": {},
   "source": [
    "#### Fit the Model"
   ]
  },
  {
   "cell_type": "code",
   "execution_count": 45,
   "metadata": {},
   "outputs": [
    {
     "name": "stdout",
     "output_type": "stream",
     "text": [
      "            Recency  Frequency  Monetary  Cluster\n",
      "CustomerID                                       \n",
      "12346.0        5123          2      2.08        2\n",
      "12347.0        4799        182    481.21        0\n",
      "12348.0        4873         31    178.71        0\n",
      "12349.0        4816         73    605.10        0\n",
      "12350.0        5107         17     65.30        2\n"
     ]
    }
   ],
   "source": [
    "# Fit the Model:\n",
    "# Choose the optimal number of clusters and fit the model.\n",
    "\n",
    "kmeans = KMeans(n_clusters=4, random_state=42)\n",
    "rfm[\"Cluster\"] = kmeans.fit_predict(rfm_scaled)\n",
    "print(rfm.head())"
   ]
  },
  {
   "cell_type": "code",
   "execution_count": 46,
   "metadata": {},
   "outputs": [
    {
     "data": {
      "image/png": "[encoded data removed]",
      "text/plain": [
       "<Figure size 640x480 with 1 Axes>"
      ]
     },
     "metadata": {},
     "output_type": "display_data"
    }
   ],
   "source": [
    "# Visualize the Clusters\n",
    "\n",
    "sns.scatterplot(\n",
    "    x=rfm_scaled[:, 0], y=rfm_scaled[:, 1],\n",
    "    hue=rfm[\"Cluster\"], palette=\"Set2\"\n",
    ")\n",
    "plt.title(\"Customer Segments\")\n",
    "plt.show()"
   ]
  },
  {
   "cell_type": "code",
   "execution_count": 47,
   "metadata": {},
   "outputs": [
    {
     "name": "stdout",
     "output_type": "stream",
     "text": [
      "             Recency    Frequency      Monetary\n",
      "Cluster                                        \n",
      "0        4840.694133    71.363546    220.679526\n",
      "1        4837.142857  3400.142857  28077.950000\n",
      "2        5047.449343    27.336773     98.552487\n",
      "3        4812.109434   498.660377   1600.202151\n"
     ]
    }
   ],
   "source": [
    "# Cluster Profiles\n",
    "cluster_summary = rfm.groupby(\"Cluster\").mean() # Calculate mean RFM values for each cluster.\n",
    "print(cluster_summary)"
   ]
  },
  {
   "cell_type": "code",
   "execution_count": null,
   "metadata": {
    "vscode": {
     "languageId": "markdown"
    }
   },
   "outputs": [],
   "source": [
    "# Clusters based on their behavior\n",
    "\n",
    "Cluster 0: Occasional low buyers\n",
    "Cluster 1: High-value frequent buyers\n",
    "Cluster 2: Minimal spenders\n",
    "Cluster 3: Frequent moderate buyers"
   ]
  },
  {
   "cell_type": "code",
   "execution_count": 49,
   "metadata": {},
   "outputs": [
    {
     "name": "stdout",
     "output_type": "stream",
     "text": [
      "Cluster 0: Occasional low buyers\n",
      "Strategy: Send personalized offers and discounts\n",
      "Engagement Campaigns: Email marketing and social media campaigns\n",
      "Loyalty Programs: Introduce loyalty programs\n",
      "Product Recommendations: Provide personalized product recommendations\n",
      "\n",
      "\n",
      "Cluster 1: High-value frequent buyers\n",
      "Strategy: Offer exclusive rewards and VIP programs\n",
      "Feedback: Regularly seek feedback\n",
      "Upselling and Cross-Selling: Increase average order value\n",
      "\n",
      "\n",
      "Cluster 2: Minimal spenders\n",
      "Strategy: Use re-engagement campaigns\n",
      "Educational Content: Provide educational content\n",
      "Simplify Purchase Process: Ensure a user-friendly purchase process\n",
      "Win-Back Strategies: Implement personalized emails or special offers\n",
      "\n",
      "\n",
      "Cluster 3: Frequent moderate buyers\n",
      "Strategy: Introduce subscription services\n",
      "Cross-Selling: Recommend complementary products\n",
      "Exclusive Previews: Offer exclusive previews of new products\n",
      "Loyalty Programs: Enhance loyalty programs\n",
      "\n",
      "\n"
     ]
    }
   ],
   "source": [
    "def marketing_plan(cluster_summary):\n",
    "    '''\n",
    "    Simple function that prints a marketing plan based on the cluster summary data\n",
    "    '''\n",
    "    for cluster, summary in cluster_summary.iterrows():\n",
    "        if cluster == 0: \n",
    "            print(\"Cluster 0: Occasional low buyers\")\n",
    "            print(\"Strategy: Send personalized offers and discounts\")\n",
    "            print(\"Engagement Campaigns: Email marketing and social media campaigns\")\n",
    "            print(\"Loyalty Programs: Introduce loyalty programs\")\n",
    "            print(\"Product Recommendations: Provide personalized product recommendations\")\n",
    "        \n",
    "        elif cluster == 1: \n",
    "            print(\"Cluster 1: High-value frequent buyers\")\n",
    "            print(\"Strategy: Offer exclusive rewards and VIP programs\")\n",
    "            print(\"Feedback: Regularly seek feedback\")\n",
    "            print(\"Upselling and Cross-Selling: Increase average order value\")\n",
    "        \n",
    "        elif cluster == 2:  \n",
    "            print(\"Cluster 2: Minimal spenders\")\n",
    "            print(\"Strategy: Use re-engagement campaigns\")\n",
    "            print(\"Educational Content: Provide educational content\")\n",
    "            print(\"Simplify Purchase Process: Ensure a user-friendly purchase process\")\n",
    "            print(\"Win-Back Strategies: Implement personalized emails or special offers\")\n",
    "        \n",
    "        elif cluster == 3: \n",
    "            print(\"Cluster 3: Frequent moderate buyers\")\n",
    "            print(\"Strategy: Introduce subscription services\")\n",
    "            print(\"Cross-Selling: Recommend complementary products\")\n",
    "            print(\"Exclusive Previews: Offer exclusive previews of new products\")\n",
    "            print(\"Loyalty Programs: Enhance loyalty programs\")\n",
    "        \n",
    "        print(\"\\n\")\n",
    "\n",
    "cluster_summary = pd.DataFrame({\n",
    "    'Recency': [4840.69, 4837.14, 5047.45, 4812.11],\n",
    "    'Frequency': [71.36, 3400.14, 27.34, 498.66],\n",
    "    'Monetary': [220.68, 28077.95, 98.55, 1600.20]\n",
    "}, index=[0, 1, 2, 3])\n",
    "\n",
    "marketing_plan(cluster_summary)"
   ]
  }
 ],
 "metadata": {
  "kernelspec": {
   "display_name": "base",
   "language": "python",
   "name": "python3"
  },
  "language_info": {
   "codemirror_mode": {
    "name": "ipython",
    "version": 3
   },
   "file_extension": ".py",
   "mimetype": "text/x-python",
   "name": "python",
   "nbconvert_exporter": "python",
   "pygments_lexer": "ipython3",
   "version": "3.11.3"
  }
 },
 "nbformat": 4,
 "nbformat_minor": 2
}
